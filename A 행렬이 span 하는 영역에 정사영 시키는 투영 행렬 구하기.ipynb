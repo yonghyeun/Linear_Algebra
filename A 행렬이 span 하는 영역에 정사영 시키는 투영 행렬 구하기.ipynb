{
 "cells": [
  {
   "cell_type": "code",
   "execution_count": 1,
   "metadata": {},
   "outputs": [
    {
     "data": {
      "text/plain": [
       "array([[ 1,  4,  5,  6,  9],\n",
       "       [ 3, -2,  1,  4, -1],\n",
       "       [-1,  0, -1, -2, -1],\n",
       "       [ 2,  3,  5,  7,  8]])"
      ]
     },
     "execution_count": 1,
     "metadata": {},
     "output_type": "execute_result"
    }
   ],
   "source": [
    "import numpy as np\n",
    "\n",
    "A = np.array([\n",
    "    [1,4,5,6,9],\n",
    "    [3,-2,1,4,-1],\n",
    "    [-1,0,-1,-2,-1],\n",
    "    [2,3,5,7,8]\n",
    "]\n",
    ")\n",
    "\n",
    "A"
   ]
  },
  {
   "attachments": {},
   "cell_type": "markdown",
   "metadata": {},
   "source": [
    "**A 에 대한 행공간 및 열공간 위로의 정사영에 대한 표준 행렬 찾기**"
   ]
  },
  {
   "cell_type": "code",
   "execution_count": 2,
   "metadata": {},
   "outputs": [
    {
     "data": {
      "text/latex": [
       "$\\displaystyle \\left[\\begin{matrix}1 & 4 & 5 & 6 & 9\\\\3 & -2 & 1 & 4 & -1\\\\-1 & 0 & -1 & -2 & -1\\\\2 & 3 & 5 & 7 & 8\\end{matrix}\\right]$"
      ],
      "text/plain": [
       "Matrix([\n",
       "[ 1,  4,  5,  6,  9],\n",
       "[ 3, -2,  1,  4, -1],\n",
       "[-1,  0, -1, -2, -1],\n",
       "[ 2,  3,  5,  7,  8]])"
      ]
     },
     "execution_count": 2,
     "metadata": {},
     "output_type": "execute_result"
    }
   ],
   "source": [
    "import sympy as sp\n",
    "\n",
    "A_sp = sp.Matrix(A.tolist())\n",
    "\n",
    "A_sp"
   ]
  },
  {
   "cell_type": "code",
   "execution_count": 3,
   "metadata": {},
   "outputs": [
    {
     "name": "stdout",
     "output_type": "stream",
     "text": [
      "RREF는\n"
     ]
    },
    {
     "data": {
      "text/latex": [
       "$\\displaystyle \\left[\\begin{matrix}1 & 0 & 1 & 2 & 1\\\\0 & 1 & 1 & 1 & 2\\\\0 & 0 & 0 & 0 & 0\\\\0 & 0 & 0 & 0 & 0\\end{matrix}\\right]$"
      ],
      "text/plain": [
       "Matrix([\n",
       "[1, 0, 1, 2, 1],\n",
       "[0, 1, 1, 1, 2],\n",
       "[0, 0, 0, 0, 0],\n",
       "[0, 0, 0, 0, 0]])"
      ]
     },
     "metadata": {},
     "output_type": "display_data"
    }
   ],
   "source": [
    "A_rref, A_pivot = A_sp.rref()\n",
    "\n",
    "print('RREF는') # RREF 를 통해 기저 행렬 찾기 \n",
    "display(A_rref)"
   ]
  },
  {
   "attachments": {},
   "cell_type": "markdown",
   "metadata": {},
   "source": [
    "### **RREF로 기저 벡터를 찾는 이유**\n",
    "* 나는 A 행렬이 span 하는 영역에 정사영 하는 벡터를 알고 싶기에 A의 부분공간의 기저 벡터들만 신경 쓰기로 함 \n",
    "* A 행렬에 정사영 시킨 벡터는  A의 기저벡터들의 선형 결합으로 만들어진 벡터이기 때문이다."
   ]
  },
  {
   "cell_type": "code",
   "execution_count": 4,
   "metadata": {},
   "outputs": [
    {
     "name": "stdout",
     "output_type": "stream",
     "text": [
      "열 기저 벡터행렬은\n"
     ]
    },
    {
     "data": {
      "text/latex": [
       "$\\displaystyle \\left[\\begin{matrix}1 & 4\\\\3 & -2\\\\-1 & 0\\\\2 & 3\\end{matrix}\\right]$"
      ],
      "text/plain": [
       "Matrix([\n",
       "[ 1,  4],\n",
       "[ 3, -2],\n",
       "[-1,  0],\n",
       "[ 2,  3]])"
      ]
     },
     "metadata": {},
     "output_type": "display_data"
    },
    {
     "name": "stdout",
     "output_type": "stream",
     "text": [
      "행 기저 벡터 행렬은\n"
     ]
    },
    {
     "data": {
      "text/latex": [
       "$\\displaystyle \\left[\\begin{matrix}1 & 3\\\\4 & -2\\\\5 & 1\\\\6 & 4\\\\9 & -1\\end{matrix}\\right]$"
      ],
      "text/plain": [
       "Matrix([\n",
       "[1,  3],\n",
       "[4, -2],\n",
       "[5,  1],\n",
       "[6,  4],\n",
       "[9, -1]])"
      ]
     },
     "metadata": {},
     "output_type": "display_data"
    }
   ],
   "source": [
    "col_basis = A_sp[:,:2]\n",
    "row_basis = A_sp.T[:,:2]\n",
    "\n",
    "print('열 기저 벡터행렬은')\n",
    "display(col_basis)\n",
    "\n",
    "print('행 기저 벡터 행렬은')\n",
    "display(row_basis)"
   ]
  },
  {
   "cell_type": "code",
   "execution_count": 5,
   "metadata": {},
   "outputs": [],
   "source": [
    "def projection_matrix(m):\n",
    "    \n",
    "    inv_ = (m.T@m).inv()\n",
    "    \n",
    "    return m@inv_@m.T"
   ]
  },
  {
   "cell_type": "code",
   "execution_count": 6,
   "metadata": {},
   "outputs": [
    {
     "name": "stdout",
     "output_type": "stream",
     "text": [
      "열 공간으로의 정사영 행렬은\n"
     ]
    },
    {
     "data": {
      "text/latex": [
       "$\\displaystyle \\left[\\begin{matrix}\\frac{237}{419} & - \\frac{73}{419} & - \\frac{13}{419} & \\frac{194}{419}\\\\- \\frac{73}{419} & \\frac{369}{419} & - \\frac{95}{419} & \\frac{64}{419}\\\\- \\frac{13}{419} & - \\frac{95}{419} & \\frac{29}{419} & - \\frac{46}{419}\\\\\\frac{194}{419} & \\frac{64}{419} & - \\frac{46}{419} & \\frac{203}{419}\\end{matrix}\\right]$"
      ],
      "text/plain": [
       "Matrix([\n",
       "[237/419, -73/419, -13/419, 194/419],\n",
       "[-73/419, 369/419, -95/419,  64/419],\n",
       "[-13/419, -95/419,  29/419, -46/419],\n",
       "[194/419,  64/419, -46/419, 203/419]])"
      ]
     },
     "metadata": {},
     "output_type": "display_data"
    },
    {
     "name": "stdout",
     "output_type": "stream",
     "text": [
      "행 공간으로의 정사영 행렬은\n"
     ]
    },
    {
     "data": {
      "text/latex": [
       "$\\displaystyle \\left[\\begin{matrix}\\frac{7}{24} & - \\frac{5}{24} & \\frac{1}{12} & \\frac{3}{8} & - \\frac{1}{8}\\\\- \\frac{5}{24} & \\frac{7}{24} & \\frac{1}{12} & - \\frac{1}{8} & \\frac{3}{8}\\\\\\frac{1}{12} & \\frac{1}{12} & \\frac{1}{6} & \\frac{1}{4} & \\frac{1}{4}\\\\\\frac{3}{8} & - \\frac{1}{8} & \\frac{1}{4} & \\frac{5}{8} & \\frac{1}{8}\\\\- \\frac{1}{8} & \\frac{3}{8} & \\frac{1}{4} & \\frac{1}{8} & \\frac{5}{8}\\end{matrix}\\right]$"
      ],
      "text/plain": [
       "Matrix([\n",
       "[ 7/24, -5/24, 1/12,  3/8, -1/8],\n",
       "[-5/24,  7/24, 1/12, -1/8,  3/8],\n",
       "[ 1/12,  1/12,  1/6,  1/4,  1/4],\n",
       "[  3/8,  -1/8,  1/4,  5/8,  1/8],\n",
       "[ -1/8,   3/8,  1/4,  1/8,  5/8]])"
      ]
     },
     "metadata": {},
     "output_type": "display_data"
    }
   ],
   "source": [
    "print('열 공간으로의 정사영 행렬은')\n",
    "display(projection_matrix(col_basis))\n",
    "\n",
    "print('행 공간으로의 정사영 행렬은')\n",
    "display(projection_matrix(row_basis))"
   ]
  }
 ],
 "metadata": {
  "kernelspec": {
   "display_name": "base",
   "language": "python",
   "name": "python3"
  },
  "language_info": {
   "codemirror_mode": {
    "name": "ipython",
    "version": 3
   },
   "file_extension": ".py",
   "mimetype": "text/x-python",
   "name": "python",
   "nbconvert_exporter": "python",
   "pygments_lexer": "ipython3",
   "version": "3.9.13"
  },
  "orig_nbformat": 4
 },
 "nbformat": 4,
 "nbformat_minor": 2
}
